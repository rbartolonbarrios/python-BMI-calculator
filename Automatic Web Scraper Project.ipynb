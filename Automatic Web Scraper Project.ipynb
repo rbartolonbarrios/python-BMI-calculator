{
 "cells": [
  {
   "cell_type": "code",
   "execution_count": 1,
   "id": "edb97820",
   "metadata": {},
   "outputs": [],
   "source": [
    "from bs4 import BeautifulSoup\n",
    "import requests\n",
    "import pandas as pd\n",
    "from datetime import datetime\n",
    "import os\n",
    "import time"
   ]
  },
  {
   "cell_type": "code",
   "execution_count": 2,
   "id": "9967ff7d",
   "metadata": {},
   "outputs": [],
   "source": [
    "def automated_crypto_pull():\n",
    "    url = 'https://coinmarketcap.com/currencies/bitcoin/'\n",
    "\n",
    "    page = requests.get(url)\n",
    "\n",
    "    soup = BeautifulSoup(page.text,'html')\n",
    "\n",
    "    coin_span = soup.find('span', class_ = 'sc-65e7f566-0 lsTl')\n",
    "    crypto_name = coin_span['title']\n",
    "\n",
    "    crypto_price = soup.find('span', class_ = 'sc-65e7f566-0 esyGGG base-text').text\n",
    "\n",
    "    final_price = crypto_price.replace('$', '') \n",
    "\n",
    "    date_time = datetime.now()\n",
    "\n",
    "    dict = {'Crypto Name': crypto_name,\n",
    "            'Price': final_price,\n",
    "            'TimeStamp': date_time}\n",
    "\n",
    "\n",
    "    df = pd.DataFrame([dict])\n",
    "\n",
    "    if os.path.exists(r'C:\\Users\\Randy Bartolon\\OneDrive\\Desktop\\python_work\\Crypto Web Puller\\Crypto_Automated_Pull.csv'):\n",
    "        df.to_csv(r'C:\\Users\\Randy Bartolon\\OneDrive\\Desktop\\python_work\\Crypto Web Puller\\Crypto_Automated_Pull.csv', mode='a', header = False, index = False)\n",
    "    else:\n",
    "        df.to_csv(r'C:\\Users\\Randy Bartolon\\OneDrive\\Desktop\\python_work\\Crypto Web Puller\\Crypto_Automated_Pull.csv', index = False)\n",
    "    print(df)"
   ]
  },
  {
   "cell_type": "code",
   "execution_count": null,
   "id": "445a3463",
   "metadata": {},
   "outputs": [],
   "source": [
    "while True:\n",
    "    automated_crypto_pull()\n",
    "    time.sleep(3600)"
   ]
  },
  {
   "cell_type": "code",
   "execution_count": null,
   "id": "570cee09",
   "metadata": {},
   "outputs": [],
   "source": []
  }
 ],
 "metadata": {
  "kernelspec": {
   "display_name": "Python 3 (ipykernel)",
   "language": "python",
   "name": "python3"
  },
  "language_info": {
   "codemirror_mode": {
    "name": "ipython",
    "version": 3
   },
   "file_extension": ".py",
   "mimetype": "text/x-python",
   "name": "python",
   "nbconvert_exporter": "python",
   "pygments_lexer": "ipython3",
   "version": "3.10.9"
  }
 },
 "nbformat": 4,
 "nbformat_minor": 5
}
